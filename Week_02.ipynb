{
 "cells": [
  {
   "cell_type": "markdown",
   "metadata": {},
   "source": [
    "# Comments and Basic Data Types"
   ]
  },
  {
   "cell_type": "code",
   "execution_count": null,
   "metadata": {},
   "outputs": [],
   "source": [
    "# this is a comment\n",
    "print(\"This is another comment!\") #This is another comment"
   ]
  },
  {
   "cell_type": "code",
   "execution_count": null,
   "metadata": {},
   "outputs": [],
   "source": [
    "\"\"\"\n",
    "This is a multiline comment\n",
    "\n",
    "\"\"\"\n",
    "print(\"Still on comments\")"
   ]
  },
  {
   "cell_type": "code",
   "execution_count": null,
   "metadata": {},
   "outputs": [],
   "source": [
    "print(2)\n",
    "print(10)"
   ]
  },
  {
   "cell_type": "code",
   "execution_count": null,
   "metadata": {},
   "outputs": [],
   "source": [
    "#the following are all floats\n",
    "print(10.750)\n",
    "print(8.0)"
   ]
  },
  {
   "cell_type": "code",
   "execution_count": null,
   "metadata": {},
   "outputs": [],
   "source": [
    "print(True)\n",
    "print(False)"
   ]
  },
  {
   "cell_type": "code",
   "execution_count": null,
   "metadata": {},
   "outputs": [],
   "source": [
    "#The following are strings\n",
    "print(\"\")\n",
    "print(\"There is a snake in my boot\")"
   ]
  },
  {
   "cell_type": "code",
   "execution_count": null,
   "metadata": {},
   "outputs": [],
   "source": []
  },
  {
   "cell_type": "code",
   "execution_count": null,
   "metadata": {},
   "outputs": [],
   "source": [
    "#program to print my name\n",
    "print(\"Buyinga Isaac Nambafu\")\n",
    "type(print)"
   ]
  },
  {
   "cell_type": "code",
   "execution_count": null,
   "metadata": {},
   "outputs": [],
   "source": [
    "type(float)"
   ]
  },
  {
   "cell_type": "code",
   "execution_count": null,
   "metadata": {},
   "outputs": [],
   "source": [
    "print(type(float))"
   ]
  },
  {
   "cell_type": "markdown",
   "metadata": {},
   "source": [
    "# Variables"
   ]
  },
  {
   "cell_type": "code",
   "execution_count": null,
   "metadata": {},
   "outputs": [],
   "source": [
    "num1 = 5\n",
    "num2 = 8.4\n",
    "print(num1, num2)"
   ]
  },
  {
   "cell_type": "code",
   "execution_count": null,
   "metadata": {},
   "outputs": [],
   "source": [
    "#storing a boolean into a variable\n",
    "switch = True\n",
    "print(switch)"
   ]
  },
  {
   "cell_type": "code",
   "execution_count": null,
   "metadata": {},
   "outputs": [],
   "source": [
    "# storing strings into a variable\n",
    "name = 'John Smith'\n",
    "fav_number ='9'\n",
    "print(name, fav_number)"
   ]
  },
  {
   "cell_type": "code",
   "execution_count": null,
   "metadata": {},
   "outputs": [],
   "source": [
    "#using 2 variables to create another variable\n",
    "result = num1 + num2\n",
    "print(result)"
   ]
  },
  {
   "cell_type": "code",
   "execution_count": null,
   "metadata": {},
   "outputs": [],
   "source": [
    "# adding, deleting, multiplying, dividing from a variable\n",
    "result += 1 # same as saying result = result + 1\n",
    "print(result)\n",
    "result *= num1 # same as saying result = result * num1\n",
    "print(result)"
   ]
  },
  {
   "cell_type": "code",
   "execution_count": null,
   "metadata": {},
   "outputs": [],
   "source": [
    "# defining a variable and overwriting it's value\n",
    "name = 'John'\n",
    "print(name)\n",
    "name = 'Sam'\n",
    "print(name)"
   ]
  },
  {
   "cell_type": "markdown",
   "metadata": {},
   "source": [
    "# TUESDAY'S EXERCISE"
   ]
  },
  {
   "cell_type": "code",
   "execution_count": null,
   "metadata": {},
   "outputs": [],
   "source": [
    "x = 3\n",
    "y = 10\n",
    "result = x * y\n",
    "print(\">>> {} + {} = {}\".format(x, y, result))"
   ]
  },
  {
   "cell_type": "markdown",
   "metadata": {},
   "source": [
    "# Area of a Rectangle"
   ]
  },
  {
   "cell_type": "code",
   "execution_count": null,
   "metadata": {},
   "outputs": [],
   "source": [
    "# units of length in inches\n",
    "length = 245.54\n",
    "\n",
    "#units of width in inches\n",
    "width = 13.66\n",
    "\n",
    "#formula for finding area\n",
    "area = length * width\n",
    "\n",
    "#printing the result\n",
    "print(\">>> {} * {} = {}\".format(length, width, area))"
   ]
  },
  {
   "cell_type": "code",
   "execution_count": null,
   "metadata": {},
   "outputs": [],
   "source": []
  },
  {
   "cell_type": "markdown",
   "metadata": {},
   "source": [
    "# Working with strings"
   ]
  },
  {
   "cell_type": "code",
   "execution_count": null,
   "metadata": {},
   "outputs": [],
   "source": [
    "# using the addition operator without variables\n",
    "\n",
    "name = \"John\" + \" \" + \"Smith\"\n",
    "\n",
    "print(\"My name is {}\".format(name))"
   ]
  },
  {
   "cell_type": "code",
   "execution_count": null,
   "metadata": {},
   "outputs": [],
   "source": []
  },
  {
   "cell_type": "code",
   "execution_count": null,
   "metadata": {},
   "outputs": [],
   "source": [
    "# using the addition operator with variables\n",
    "first_name = \"John\"\n",
    "\n",
    "last_name = \"Smith\"\n",
    "\n",
    "full_name = first_name + \" \" + last_name\n",
    "\n",
    "print(full_name)"
   ]
  },
  {
   "cell_type": "code",
   "execution_count": null,
   "metadata": {},
   "outputs": [],
   "source": []
  },
  {
   "cell_type": "code",
   "execution_count": null,
   "metadata": {},
   "outputs": [],
   "source": [
    "# injecting variables using the format method\n",
    "\n",
    "name = \"John\"\n",
    "\n",
    "print(\"Hello {}\".format(name))\n",
    "\n",
    "print(\"Hello {}, you are {} years old!\".format(name, 28))"
   ]
  },
  {
   "cell_type": "code",
   "execution_count": null,
   "metadata": {},
   "outputs": [],
   "source": []
  },
  {
   "cell_type": "code",
   "execution_count": null,
   "metadata": {},
   "outputs": [],
   "source": [
    "# using the new strings\n",
    "\n",
    "name = \"John\"\n",
    "\n",
    "print(f\"Hello {name} you are 9 years old!\")"
   ]
  },
  {
   "cell_type": "code",
   "execution_count": null,
   "metadata": {},
   "outputs": [],
   "source": [
    "# using indexes to print each element\n",
    "\n",
    "word = \"Hello\"\n",
    "\n",
    "print(f\"{word[0]} {word[1]} {word[2]} {word[3]} {word[4]}\")\n",
    "\n",
    "print(\"{} {} {} {} {}\".format(word[0], word[1], word[2], word[3], word[4]))\n",
    "\n",
    "print(word[0])\n",
    "\n",
    "print(word[1])\n",
    "\n",
    "print(word[2])\n",
    "\n",
    "print(word[3])\n",
    "\n",
    "print(word[4])\n"
   ]
  },
  {
   "cell_type": "code",
   "execution_count": null,
   "metadata": {},
   "outputs": [],
   "source": []
  },
  {
   "cell_type": "markdown",
   "metadata": {},
   "source": [
    "# Exercise"
   ]
  },
  {
   "cell_type": "code",
   "execution_count": null,
   "metadata": {},
   "outputs": [],
   "source": [
    "# using .format to print on one line\n",
    "\n",
    "print(\"{} {} {} {} {}\".format(23, 4.5, True, False, \"John\"))"
   ]
  },
  {
   "cell_type": "code",
   "execution_count": null,
   "metadata": {},
   "outputs": [],
   "source": [
    "# exercise 2\n",
    "\n",
    "name = \"Buyinga Isaac Nambafu\"\n",
    "\n",
    "fav_sport = \"Chess\"\n",
    "\n",
    "print(\"{}'s favourite sports is {}\".format(name, fav_sport))\n",
    "print(\"{} is working on {} Programming\".format(name, \"Python\"))"
   ]
  },
  {
   "cell_type": "code",
   "execution_count": null,
   "metadata": {},
   "outputs": [],
   "source": []
  },
  {
   "cell_type": "markdown",
   "metadata": {},
   "source": [
    "# PYTHON PROGRAM TO GENERATE INITIALS FROM GIVEN NAMES\n"
   ]
  },
  {
   "cell_type": "code",
   "execution_count": null,
   "metadata": {},
   "outputs": [],
   "source": [
    "#this program will generate initials for your name\n",
    "\n",
    "max_number_of_names = 5  # a person cant have more than 5 names\n",
    "\n",
    "print(\"Enter the Number of Names you Have You Can't Exceed 5\\n\")\n",
    "\n",
    "number_of_names = input()\n",
    "\n",
    "if int(number_of_names) > max_number_of_names:  #check if 5 limit is exceeded\n",
    "    \n",
    "    print(\"Sorry Number of names can't exceed 5\")\n",
    "    \n",
    "elif int(number_of_names) == max_number_of_names: #check if names are exactly 5\n",
    "    \n",
    "    first_name   = input(\"Enter the First Name : \\n\")\n",
    "    \n",
    "    second_name  = input(\"Enter the Second Name : \\n\")\n",
    "    \n",
    "    third_name   = input(\"Enter the Third Name : \\n\")\n",
    "    \n",
    "    fourth_name  = input(\"Enter the Fourth Name : \\n\")\n",
    "    \n",
    "    fifth_name   = input(\"Enter the Fifth Name : \\n\")\n",
    "    \n",
    "    print(f\" Your Names Are {first_name} {second_name} {third_name} {fourth_name} {fifth_name}\")\n",
    "    \n",
    "    print(\"THE COMPUTER GENERATED INITIALS FOR YOUR NAME\\n\")\n",
    "    \n",
    "    print(\"****************************\")\n",
    "    \n",
    "    print(\"*                          *\")\n",
    "    \n",
    "    print(\"*     {} {} {} {} {}       *\".format(first_name[0], second_name[0], third_name[0], fourth_name[0], fifth_name[0]))\n",
    "    \n",
    "    print(\"*                          *\")\n",
    "    \n",
    "    print(\"****************************\")\n",
    "    \n",
    "elif int(number_of_names) == max_number_of_names - 1: #check to see if names are 4\n",
    "    \n",
    "    first_name   = input(\"Enter the First Name : \\n\")\n",
    "    \n",
    "    second_name  = input(\"Enter the Second Name : \\n\")\n",
    "    \n",
    "    third_name   = input(\"Enter the Third Name : \\n\")\n",
    "    \n",
    "    fourth_name  = input(\"Enter the Fourth Name : \\n\")\n",
    "        \n",
    "    print(f\" Your Names Are {first_name} {second_name} {third_name} {fourth_name}\")\n",
    "    \n",
    "    print(\"THE COMPUTER GENERATED INITIALS FOR YOUR NAME\\n\")\n",
    "    \n",
    "    print(\"****************************\")\n",
    "    \n",
    "    print(\"*                          *\")\n",
    "    \n",
    "    print(\"*       {} {} {} {}        *\".format(first_name[0], second_name[0], third_name[0], fourth_name[0]))\n",
    "    \n",
    "    print(\"*                          *\")\n",
    "    \n",
    "    print(\"****************************\")\n",
    "\n",
    "elif int(number_of_names) == max_number_of_names - 2: #check incase the names are 2\n",
    "    \n",
    "    first_name   = input(\"Enter the First Name : \\n\")\n",
    "    \n",
    "    second_name  = input(\"Enter the Second Name : \\n\")\n",
    "    \n",
    "    third_name   = input(\"Enter the Third Name : \\n\")\n",
    "           \n",
    "    print(f\" Your Names Are {first_name} {second_name} {third_name}\")\n",
    "    \n",
    "    print(\"THE COMPUTER GENERATED INITIALS FOR YOUR NAME\\n\")\n",
    "    \n",
    "    print(\"****************************\")\n",
    "    \n",
    "    print(\"*                          *\")\n",
    "    \n",
    "    print(\"*        {} {} {}          *\".format(first_name[0], second_name[0], third_name[0]))\n",
    "    \n",
    "    print(\"*                          *\")\n",
    "    \n",
    "    print(\"****************************\")\n",
    "\n",
    "elif int(number_of_names) == max_number_of_names - 3: #check incase the names are 2\n",
    "    \n",
    "    first_name   = input(\"Enter the First Name : \\n\")\n",
    "    \n",
    "    second_name  = input(\"Enter the Second Name : \\n\")\n",
    "               \n",
    "    print(f\" Your Names Are {first_name} {second_name} \")\n",
    "    \n",
    "    print(\"THE COMPUTER GENERATED INITIALS FOR YOUR NAME\\n\")\n",
    "    \n",
    "    print(\"****************************\")\n",
    "    \n",
    "    print(\"*                          *\")\n",
    "    \n",
    "    print(\"*          {} {}           *\".format(first_name[0], second_name[0]))\n",
    "    \n",
    "    print(\"*                          *\")\n",
    "    \n",
    "    print(\"***************************\")\n",
    "    \n",
    "elif int(number_of_names) == max_number_of_names - 4: # check incase 1 name is entered\n",
    "    \n",
    "    first_name   = input(\"Enter Your Name : \\n\")\n",
    "                   \n",
    "    print(f\" Your Name is {first_name}\\n\")\n",
    "    \n",
    "    print(\"THE COMPUTER GENERATED INITIALS FOR YOUR NAME\\n\")\n",
    "    \n",
    "    print(\"****************************\")\n",
    "    \n",
    "    print(\"*                          *\")\n",
    "    \n",
    "    print(\"*            {}            *\".format(first_name[0]))\n",
    "    \n",
    "    print(\"*                          *\")\n",
    "    \n",
    "    print(\"****************************\")\n",
    "    \n",
    "else: #check if no name is entered\n",
    "    print(\"\\nPLEASE FOLLOW THE PROMPTS AND DO THE NEEDFUL COZ YOU CANT HAVE {} NAMES\".format(int(number_of_names)))\n",
    "    "
   ]
  },
  {
   "cell_type": "code",
   "execution_count": null,
   "metadata": {},
   "outputs": [],
   "source": []
  },
  {
   "cell_type": "markdown",
   "metadata": {},
   "source": [
    "# Manipulating Strings"
   ]
  },
  {
   "cell_type": "code",
   "execution_count": null,
   "metadata": {},
   "outputs": [],
   "source": [
    "# using the title method to capitalize names\n",
    "name = \"john smith\"\n",
    "print(name.title()) #capitalizes each word\n",
    "\n",
    "#all seen as lower case\n",
    "print(name.lower())\n",
    "\n",
    "#print all in upper case\n",
    "print(name.upper())\n"
   ]
  },
  {
   "cell_type": "code",
   "execution_count": null,
   "metadata": {},
   "outputs": [],
   "source": [
    "# replacing an exclamation point with a period\n",
    "\n",
    "words = \"Hello World!\"\n",
    "\n",
    "print(words.replace(\"!\", \".\"), words.lower(), words.upper())"
   ]
  },
  {
   "cell_type": "code",
   "execution_count": null,
   "metadata": {},
   "outputs": [],
   "source": []
  },
  {
   "cell_type": "code",
   "execution_count": null,
   "metadata": {},
   "outputs": [],
   "source": [
    "# finding the starting index of our search item\n",
    "\n",
    "s = \"Look over that way\"\n",
    "\n",
    "print (s.find(\"over\"))"
   ]
  },
  {
   "cell_type": "code",
   "execution_count": null,
   "metadata": {},
   "outputs": [],
   "source": [
    "#removing white spaces with strip\n",
    "\n",
    "name = \"\\tjohn\"\n",
    "\n",
    "print(\"{}\\n {}\\n {}\\n {}\".format(name.strip(), name, name.rstrip(), name.lstrip()))"
   ]
  },
  {
   "cell_type": "markdown",
   "metadata": {},
   "source": [
    "# EXERCISE"
   ]
  },
  {
   "cell_type": "code",
   "execution_count": null,
   "metadata": {},
   "outputs": [],
   "source": [
    "#convert to uppercase\n",
    "\n",
    "str1 = \"uppercase\"\n",
    "print(str1.upper())"
   ]
  },
  {
   "cell_type": "code",
   "execution_count": null,
   "metadata": {},
   "outputs": [],
   "source": [
    "help(print)"
   ]
  },
  {
   "cell_type": "code",
   "execution_count": null,
   "metadata": {},
   "outputs": [],
   "source": []
  },
  {
   "cell_type": "code",
   "execution_count": null,
   "metadata": {},
   "outputs": [],
   "source": []
  },
  {
   "cell_type": "markdown",
   "metadata": {},
   "source": [
    "# Friday Project: Receipt Printing Project"
   ]
  },
  {
   "cell_type": "code",
   "execution_count": null,
   "metadata": {},
   "outputs": [],
   "source": [
    "# product and price for three items\n",
    "\n",
    "p1_name , p1_price = \"Books\", 49.5\n",
    "\n",
    "p2_name , p2_price = \"Computer\", 579.99\n",
    "\n",
    "p3_name , p3_price = \"Monitor\", 124.89\n",
    "\n",
    "# company name and information\n",
    "\n",
    "company_name = \"coding template, inc.\"\n",
    "\n",
    "company_address = \"283 ranklin St.\"\n",
    "\n",
    "company_city = \"Boston, MA\"\n",
    "\n",
    "#Ending message\n",
    "\n",
    "message = \"Thanks for shopping with us today!\"\n",
    "\n",
    "#top border\n",
    "\n",
    "print(\"*\" * 50)\n",
    "\n",
    "#print company info including side borders\n",
    "\n",
    "print(\"*\",\"\\t\\t{}\".format(company_name.title()), \"\\t\\t *\")\n",
    "\n",
    "print(\"*\",\"\\t\\t{}\".format(company_address), \"\\t\\t *\")\n",
    "\n",
    "print(\"*\",\"\\t\\t{}\".format(company_city), \"\\t\\t\\t *\")\n",
    "\n",
    "print(\"*\",\"=\"*46,\"*\")\n",
    "\n",
    "# print out header for section of items\n",
    "\n",
    "print(\"*\", \"\\tProduct Name\\tProduct Price\", \"\\t\\t *\")\n",
    "\n",
    "# create a print statement for each product\n",
    "\n",
    "print(\"*\",\"\\t{}\\t\\t${}\".format(p1_name.title(), p1_price),\"\\t\\t\\t *\")\n",
    "\n",
    "print(\"*\",\"\\t{}\\t${}\".format(p2_name.title(), p2_price), \"\\t\\t *\")\n",
    "\n",
    "print(\"*\",\"\\t{}\\t\\t${}\".format(p3_name.title(), p3_price),\"\\t\\t *\")\n",
    "\n",
    "# create line between sections\n",
    "\n",
    "print(\"*\",\"=\" * 46, \"*\")\n",
    "\n",
    "#Header section for total\n",
    "print(\"*\",\"\\t\\t\\tTotal\",\"\\t\\t\\t *\")\n",
    "\n",
    "# formula for total\n",
    "total = p1_price + p2_price + p3_price\n",
    "\n",
    "print(\"*\",\"\\t\\t\\t${}\".format(total),\"\\t\\t *\")\n",
    "\n",
    "# create line between sections\n",
    "print(\"*\",\"=\" * 46,\"*\")\n",
    "\n",
    "print(\"*\", \" \" * 46, \"*\")\n",
    "\n",
    "#output thank you message\n",
    "print(\"*\",\"\\t{}\".format(message),\"\\t *\")\n",
    "\n",
    "print(\"*\", \" \" * 46, \"*\")\n",
    "\n",
    "# bottom border\n",
    "\n",
    "print(\"*\" * 50)\n",
    "\n",
    "\n",
    "\n",
    "\n",
    "\n",
    "\n",
    "\n",
    "\n",
    "\n",
    "\n",
    "\n",
    "\n"
   ]
  },
  {
   "cell_type": "code",
   "execution_count": null,
   "metadata": {},
   "outputs": [],
   "source": []
  },
  {
   "cell_type": "code",
   "execution_count": null,
   "metadata": {},
   "outputs": [],
   "source": []
  },
  {
   "cell_type": "markdown",
   "metadata": {},
   "source": [
    "# A  modified Receipt Printing Program"
   ]
  },
  {
   "cell_type": "code",
   "execution_count": 8,
   "metadata": {},
   "outputs": [
    {
     "name": "stdout",
     "output_type": "stream",
     "text": [
      "Enter The Company Name : \n",
      "Clickon Technologies\n",
      "Enter The Company Address : \n",
      "Plot 44 Lumumba\n",
      "Enter The Name of The City Where the Company is : \n",
      "Kyebando, Nansana\n",
      "Enter Product 1 name :  \n",
      "Laptop\n",
      "Enter product 1 price : \n",
      "500000\n",
      "Enter Product 2 name : \n",
      "Hard Disk\n",
      "Enter Product 2 price : \n",
      "120000\n",
      "Enter Product 3 name : \n",
      "Flash\n",
      "Enter Product 3 price : \n",
      "50000\n",
      "**************************************************\n",
      "* \t\tClickon Technologies \t\t *\n",
      "* \t\tPlot 44 Lumumba \t *\n",
      "* \t\tKyebando, Nansana \t\t\t *\n",
      "* ============================================== *\n",
      "* \tProduct Name\tProduct Price \t\t *\n",
      "* \tLaptop\t\t$500000 \t\t *\n",
      "* \tHard Disk\t$120000 \t\t *\n",
      "* \tFlash\t\t$50000 \t\t\t *\n",
      "* ============================================== *\n",
      "* \t\t\tTotal \t\t\t *\n",
      "* \t\t\t$670000 \t\t *\n",
      "* ============================================== *\n",
      "*                                                *\n",
      "* \tThank You for Shopping With Us \t\t *\n",
      "*                                                *\n",
      "**************************************************\n"
     ]
    }
   ],
   "source": [
    "# receipt printing program modified to be automated\n",
    "\n",
    "# variables to store company info\n",
    "\n",
    "company_name = input(\"Enter The Company Name : \\n\")\n",
    "\n",
    "company_adrres = input(\"Enter The Company Address : \\n\")\n",
    "\n",
    "city_location = input(\"Enter The Name of The City Where the Company is : \\n\")\n",
    "\n",
    "# variables to store company products\n",
    "\n",
    "p1_name = input(\"Enter Product 1 name :  \\n\")\n",
    "\n",
    "p1_price = input(\"Enter product 1 price : \\n\")\n",
    "\n",
    "p2_name = input(\"Enter Product 2 name : \\n\")\n",
    "\n",
    "p2_price = input(\"Enter Product 2 price : \\n\")\n",
    "\n",
    "p3_name = input(\"Enter Product 3 name : \\n\")\n",
    "\n",
    "p3_price = input(\"Enter Product 3 price : \\n\")\n",
    "\n",
    "#thank you message\n",
    "\n",
    "message = (\"Thank You for Shopping With Us\")\n",
    "\n",
    "# printing the final results\n",
    "\n",
    "print(\"*\" * 50)\n",
    "\n",
    "print(\"*\", \"\\t\\t{}\".format(company_name.title()), \"\\t\\t *\" )\n",
    "\n",
    "print(\"*\",\"\\t\\t{}\".format(company_adrres), \"\\t *\")\n",
    "\n",
    "print(\"*\",\"\\t\\t{}\".format(city_location), \"\\t\\t\\t *\")\n",
    "\n",
    "print(\"*\",\"=\"*46,\"*\")\n",
    "\n",
    "# print out header for section of items\n",
    "\n",
    "print(\"*\", \"\\tProduct Name\\tProduct Price\", \"\\t\\t *\")\n",
    "\n",
    "# create a print statement for each product\n",
    "\n",
    "print(\"*\",\"\\t{}\\t\\t${}\".format(p1_name.title(), p1_price),\"\\t\\t *\")\n",
    "\n",
    "print(\"*\",\"\\t{}\\t${}\".format(p2_name.title(), p2_price), \"\\t\\t *\")\n",
    "\n",
    "print(\"*\",\"\\t{}\\t\\t${}\".format(p3_name.title(), p3_price),\"\\t\\t\\t *\")\n",
    "\n",
    "# create line between sections\n",
    "\n",
    "print(\"*\",\"=\" * 46, \"*\")\n",
    "\n",
    "#Header section for total\n",
    "print(\"*\",\"\\t\\t\\tTotal\",\"\\t\\t\\t *\")\n",
    "\n",
    "# formula for total\n",
    "total = int(p1_price) + int(p2_price) + int(p3_price)\n",
    "\n",
    "print(\"*\",\"\\t\\t\\t${}\".format(total),\"\\t\\t *\")\n",
    "\n",
    "# create line between sections\n",
    "print(\"*\",\"=\" * 46,\"*\")\n",
    "\n",
    "print(\"*\", \" \" * 46, \"*\")\n",
    "\n",
    "#output thank you message\n",
    "print(\"*\",\"\\t{}\".format(message),\"\\t\\t *\")\n",
    "\n",
    "print(\"*\", \" \" * 46, \"*\")\n",
    "\n",
    "# bottom border\n",
    "\n",
    "print(\"*\" * 50)\n",
    "\n"
   ]
  },
  {
   "cell_type": "code",
   "execution_count": null,
   "metadata": {},
   "outputs": [],
   "source": []
  },
  {
   "cell_type": "markdown",
   "metadata": {},
   "source": [
    "# Final Exercise "
   ]
  },
  {
   "cell_type": "code",
   "execution_count": 21,
   "metadata": {},
   "outputs": [
    {
     "name": "stdout",
     "output_type": "stream",
     "text": [
      "\n"
     ]
    }
   ],
   "source": [
    "# slicing hello word\n",
    "\n",
    "name = \"Hello World\"\n",
    "\n",
    "print(name[-1:-5])"
   ]
  },
  {
   "cell_type": "code",
   "execution_count": null,
   "metadata": {},
   "outputs": [],
   "source": []
  }
 ],
 "metadata": {
  "kernelspec": {
   "display_name": "Python 3",
   "language": "python",
   "name": "python3"
  },
  "language_info": {
   "codemirror_mode": {
    "name": "ipython",
    "version": 3
   },
   "file_extension": ".py",
   "mimetype": "text/x-python",
   "name": "python",
   "nbconvert_exporter": "python",
   "pygments_lexer": "ipython3",
   "version": "3.8.5"
  }
 },
 "nbformat": 4,
 "nbformat_minor": 2
}
