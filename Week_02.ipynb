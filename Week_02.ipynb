# added is to print from largest to smallest

print("ENTER FIVE NUMBERS AND I PRINT THEM IN DESCENDING ORDER : ")

try:
    
    num1 = int(input("Enter the first number : "))
    
    num2 = int(input("\tEnter the second number : "))
    
    num3 = int(input("\t\tEnter the third number : "))
    
    num4 = int(input("\t\t\tEnter the fourth number : "))
    
    num5 = int(input("\t\t\t\tEnter the fourth number : "))
    
    #logic arrangement
    
    if num1 > num2 and num1 > num3 and num1 > num4 and num1 > num5:
        print("{} is the Largest".format(num1))
        
    if num2 > num1 and num2 > num3 and num2 > num4 and num2 > num5:
        print("{} is the Largest".format(num2))
            
    if num3 > num1 and num3 > num2 and num3 > num4 and num3 > num5:
        print("{} is the Largest".format(num3))
                
    if num4 > num1 and num4 > num2 and num4 > num3 and num4 > num5:
        print("{} is the Largest".format(num4))
                    
    if num5 > num1 and num5 > num2 and num5 > num3 and num5 > num4:
        print("{} is the Largest".format(num5))
        
    print("Since we have identified The Largest now enter the other numbers\nexcept the largest to select the seccond Largest")
    
    numm1 = int(input("Enter the first number : "))
    
    numm2 = int(input("\tEnter the second number : "))
    
    numm3 = int(input("\t\tEnter the third number : "))
    
    numm4 = int(input("\t\t\tEnter the fourth number : "))
    
    if numm1 > numm2 and numm1 > numm3 and numm1 > numm4:
        print("{} is the second largest".format(numm1))
        
    if numm2 > numm1 and numm2 > numm3 and numm2 > 
    
                    
except:
    print("Enter data again")