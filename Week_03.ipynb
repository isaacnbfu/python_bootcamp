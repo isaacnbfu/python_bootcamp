{
 "cells": [
  {
   "cell_type": "markdown",
   "metadata": {},
   "source": [
    "# User input and Type converting"
   ]
  },
  {
   "cell_type": "markdown",
   "metadata": {},
   "source": [
    "# accepting and outputting user input\n",
    "\n",
    "print(input(\"What is your name? : \"))"
   ]
  },
  {
   "cell_type": "code",
   "execution_count": null,
   "metadata": {},
   "outputs": [],
   "source": [
    "# saving what th user inputs\n",
    "\n",
    "ans = input(\"What is your name? :\")\n",
    "\n",
    "print(\"Hello {}!\".format(ans))"
   ]
  },
  {
   "cell_type": "code",
   "execution_count": null,
   "metadata": {},
   "outputs": [],
   "source": [
    "print(type(ans))"
   ]
  },
  {
   "cell_type": "code",
   "execution_count": null,
   "metadata": {},
   "outputs": [],
   "source": [
    "print(type(print))"
   ]
  },
  {
   "cell_type": "code",
   "execution_count": null,
   "metadata": {},
   "outputs": [],
   "source": [
    "print(type(type))"
   ]
  },
  {
   "cell_type": "code",
   "execution_count": null,
   "metadata": {},
   "outputs": [],
   "source": [
    "print(type(input))"
   ]
  },
  {
   "cell_type": "code",
   "execution_count": null,
   "metadata": {},
   "outputs": [],
   "source": [
    "# converting a variable from one datatype to another\n",
    "\n",
    "num = \"9\"\n",
    "\n",
    "num = int(num) #re-declaring number to accomodate int\n",
    "\n",
    "print(type(num))"
   ]
  },
  {
   "cell_type": "code",
   "execution_count": null,
   "metadata": {},
   "outputs": [],
   "source": [
    "# working with user input to perfom calculations\n",
    "\n",
    "ans = input(\"Type a number to add: \")\n",
    "\n",
    "print(type(ans)) # default type is string\n",
    "\n",
    "result = 100 + int(ans)\n",
    "\n",
    "print(\"100 + {} = {}\".format(ans, result))\n"
   ]
  },
  {
   "cell_type": "code",
   "execution_count": null,
   "metadata": {},
   "outputs": [],
   "source": [
    "# using the try and except blocks, use tab to indent where necessary\n",
    "\n",
    "try: #if everything is kawa code here will run\n",
    "    ans = input(\"Type a number to add : \")\n",
    "    \n",
    "    print(type(ans))\n",
    "    \n",
    "    result = 100 + int(ans)\n",
    "    \n",
    "    print(\"100 + {} = {}\".format(ans, result))\n",
    "\n",
    "    #if an error occurs in the try, the code in except will run\n",
    "except:\n",
    "    print(\"Enter a digit between 0 and 9 and not a word:\")\n",
    "    print(\"Thanks for using our program though\")\n",
    "        "
   ]
  },
  {
   "cell_type": "markdown",
   "metadata": {},
   "source": [
    "# Monday's Exercise"
   ]
  },
  {
   "cell_type": "code",
   "execution_count": null,
   "metadata": {},
   "outputs": [],
   "source": [
    "# converting from a string to a boolean\n",
    "\n",
    "str1 = \"True\"\n",
    "\n",
    "print(bool(str1))"
   ]
  },
  {
   "cell_type": "code",
   "execution_count": null,
   "metadata": {},
   "outputs": [],
   "source": [
    "# sum of 2 numbers input by the user\n",
    "\n",
    "try: #if all goes well\n",
    "    print(\"The calc will allow you enter 2 numbers and adds them\")\n",
    "    \n",
    "    num1 = int(input(\"Enter the first number : \"))  #holds first value converted to an int\n",
    "    \n",
    "    num2 = int(input(\"\\t\\tEnter the second number : \")) # holds second value\n",
    "    \n",
    "    result = num1 + num2\n",
    "    \n",
    "    print(\"{} + {} = {}\".format(num1, num2, result))\n",
    "    \n",
    "#if staff in the try statement dont run\n",
    "except:5\n",
    "    print(\"Please try again\")\n",
    "    "
   ]
  },
  {
   "cell_type": "code",
   "execution_count": null,
   "metadata": {},
   "outputs": [],
   "source": [
    "\n"
   ]
  },
  {
   "cell_type": "code",
   "execution_count": null,
   "metadata": {},
   "outputs": [],
   "source": [
    "# simple program for inputing car info\n",
    "\n",
    "try:\n",
    "    print(\"Enter info about your car please\")\n",
    "    \n",
    "    year_of_mfg = input(\"Enter the year when the car was Manufactured\")\n",
    "    \n",
    "    make = input(\"\\t\\tEnter the make of the car : \")\n",
    "    \n",
    "    model = input(\"\\t\\t\\t\\tEnter the car model : \")\n",
    "    \n",
    "    color = input(\"\\t\\t\\t\\t\\t\\tEnter the car's color : \")\n",
    "    \n",
    "    # prompt for format to ouput final result\n",
    "    \n",
    "    print(\"Enter new if you want the details\\nof your to be output on a newline\\nelse the info will be displayed in sentence form \")\n",
    "    \n",
    "    formatt = input(\"Enter the format here, new or leave blank\")\n",
    "    \n",
    "    if formatt == \"new\":\n",
    "        \n",
    "        print(\"YEAR OF MANUFACTURE : {}\".format(year_of_mfg))\n",
    "        \n",
    "        print(\"CAR MAKE            : {}\".format(make))\n",
    "        \n",
    "        print(\"CAR MODEL           : {}\".format(model))\n",
    "        \n",
    "        print(\"CAR COLOR           : {}\".format(color))\n",
    "        \n",
    "    else:\n",
    "        print(\"{} {} {} {}\".format(year_of_mfg, make, model, color))\n",
    "\n",
    "except:\n",
    "    print(\"You entered wrong information please reenter it\")\n",
    "print(\"BYEE~!\")"
   ]
  },
  {
   "cell_type": "code",
   "execution_count": null,
   "metadata": {},
   "outputs": [],
   "source": [
    "\n"
   ]
  },
  {
   "cell_type": "markdown",
   "metadata": {},
   "source": [
    "# IF STATEMENTS"
   ]
  },
  {
   "cell_type": "code",
   "execution_count": null,
   "metadata": {},
   "outputs": [],
   "source": [
    "# using an if statement to only run code if the condition is met\n",
    "\n",
    "x, y = 35, 10\n",
    "\n",
    "if x < y:\n",
    "    try:\n",
    "        print(\"{} IS LESS THAN {}\".format(x, y))\n",
    "    except:\n",
    "        print(\"{} IS GREATER THAN {}\".format(x, y))\n",
    "        "
   ]
  },
  {
   "cell_type": "code",
   "execution_count": null,
   "metadata": {},
   "outputs": [],
   "source": []
  },
  {
   "cell_type": "code",
   "execution_count": null,
   "metadata": {},
   "outputs": [],
   "source": [
    "# checking user input\n",
    "\n",
    "ans = int(input(\"What is 5 + 5 ?\\n\"))\n",
    "\n",
    "if ans == 10:\n",
    "    \n",
    "    try:\n",
    "        print(\"You got it right\")\n",
    "    \n",
    "    except:\n",
    "        print(\"Please enter the answer as a decimal number not in word form\")\n",
    "    "
   ]
  },
  {
   "cell_type": "code",
   "execution_count": null,
   "metadata": {},
   "outputs": [],
   "source": [
    "\n"
   ]
  },
  {
   "cell_type": "code",
   "execution_count": null,
   "metadata": {},
   "outputs": [],
   "source": [
    "# using the keyword and in an if statement\n",
    "\n",
    "x , y, z = 5, 10, 5\n",
    "\n",
    "if x < y and x == z:\n",
    "    print(\"Both statements were true\")"
   ]
  },
  {
   "cell_type": "code",
   "execution_count": null,
   "metadata": {},
   "outputs": [],
   "source": []
  },
  {
   "cell_type": "markdown",
   "metadata": {},
   "source": [
    "# program to output the largest of 3 numbers"
   ]
  },
  {
   "cell_type": "code",
   "execution_count": null,
   "metadata": {},
   "outputs": [],
   "source": [
    "# logic using the and operator\n",
    "\n",
    "print(\"Enter 3 numbers and i output for you the largest :\")\n",
    "\n",
    "x = int(input(\"Enter the first number  : \"))\n",
    "\n",
    "y = int(input(\"\\t\\tEnter the second number : \"))\n",
    "\n",
    "z = int(input(\"\\t\\t\\t\\tEnter the third number  : \"))\n",
    "\n",
    "try:\n",
    "    if x > y and x > z:\n",
    "        print(\"{} is the largest of {} and {}\".format(x, y, z))\n",
    "    if y > x and y > z:\n",
    "        print(\"{} is the largest of {} and {}\".format(y, x, z))\n",
    "    if z > x and z > y:\n",
    "        print(\"{} is the largest of {} and {}\".format(z, x, y))\n",
    "except:\n",
    "    print(\"please enter info as you were told\")\n",
    "    "
   ]
  },
  {
   "cell_type": "code",
   "execution_count": null,
   "metadata": {},
   "outputs": [],
   "source": []
  },
  {
   "cell_type": "markdown",
   "metadata": {},
   "source": [
    "# MODIFICATION OF THE PROGRAM TO PRINT FROM LARGEST TO SMALLEST FOR FIVE NUMBERS"
   ]
  },
  {
   "cell_type": "code",
   "execution_count": 1,
   "metadata": {},
   "outputs": [
    {
     "name": "stdout",
     "output_type": "stream",
     "text": [
      "\n",
      "      ENTER FIVE NUMBERS AND I PRINT THEM IN DESCENDING ORDER :\n",
      "      FIRST ENTER FIVE NUMBERS AND I IDENTIFY THE LARGEST\n",
      "      NEXT ENTER FOUR AND I IDENTIFY THE SECOND THEN ENTER THREE\n",
      "      THEN TWO AND FINALLY THE REMAINING ONE NUMBER\n",
      "      EACH TIME EXCLUDE THE LAST NUMBERS THAT HAVE BEEN \n",
      "      IDENTIFIED AS LARGE ALREADY\n",
      "      \n",
      "\t\t\tEnter the first number : 67\n",
      "\t\t\tEnter the second number : 45\n",
      "\t\t\tEnter the third number : 7855\n",
      "\t\t\tEnter the fourth number : 34\n",
      "\t\t\tEnter the fourth number : 67\n",
      "\n",
      "7855 is the Largest\n",
      "\t\t\tEnter the first number in any order of the remaining four values : 67\n",
      "\t\t\tEnter the second number  : 45\n",
      "\t\t\tEnter the third number : 34\n",
      "\t\t\tEnter the fourth number : 67\n",
      "\t\t\tEnter the other 3 numbers now omitting the to already identified\n",
      "\t\t\tEnter the first : 45\n",
      "\t\t\tEnter the second number : 34\n",
      "\t\t\tEnter the third number : 67\n",
      "\n",
      "67 is the third largest\n",
      "\t\t\tOmmit the above 3 and enter the remaining 2 numbers\n",
      "\t\t\tso that i get the fourth largest\n",
      "\t\t\tEnter the first number : 45\n",
      "\t\t\tEnter the second number : 34\n",
      "45 is the fourth largest \n",
      "\t\t\tJust enter the remaining value : 34\n"
     ]
    }
   ],
   "source": [
    "# added is to print from largest to smallest of\n",
    "# 5 values entered by the user using only if statements\n",
    "\n",
    "print(\"\"\"\n",
    "      ENTER FIVE NUMBERS AND I PRINT THEM IN DESCENDING ORDER :\n",
    "      FIRST ENTER FIVE NUMBERS AND I IDENTIFY THE LARGEST\n",
    "      NEXT ENTER FOUR AND I IDENTIFY THE SECOND THEN ENTER THREE\n",
    "      THEN TWO AND FINALLY THE REMAINING ONE NUMBER\n",
    "      EACH TIME EXCLUDE THE LAST NUMBERS THAT HAVE BEEN \n",
    "      IDENTIFIED AS LARGE ALREADY\n",
    "      \"\"\")\n",
    "\n",
    "try:\n",
    "    #First the user is going to enter five numbers,\n",
    "    #They are compared against each other and the largest is printed\n",
    "    \n",
    "    \n",
    "    num1 = int(input(\"\\t\\t\\tEnter the first number : \"))\n",
    "    \n",
    "    num2 = int(input(\"\\t\\t\\tEnter the second number : \"))\n",
    "    \n",
    "    num3 = int(input(\"\\t\\t\\tEnter the third number : \"))\n",
    "    \n",
    "    num4 = int(input(\"\\t\\t\\tEnter the fourth number : \"))\n",
    "    \n",
    "    num5 = int(input(\"\\t\\t\\tEnter the fourth number : \"))\n",
    "    \n",
    "    #logic arrangement\n",
    "    \n",
    "    if num1 > num2 and num1 > num3 and num1 > num4 and num1 > num5:\n",
    "        print(\"\\n{} is the Largest\".format(num1))\n",
    "        \n",
    "    if num2 > num1 and num2 > num3 and num2 > num4 and num2 > num5:\n",
    "        print(\"\\n{} is the Largest\".format(num2))\n",
    "            \n",
    "    if num3 > num1 and num3 > num2 and num3 > num4 and num3 > num5:\n",
    "        print(\"\\n{} is the Largest\".format(num3))\n",
    "                \n",
    "    if num4 > num1 and num4 > num2 and num4 > num3 and num4 > num5:\n",
    "        print(\"\\n{} is the Largest\".format(num4))\n",
    "                    \n",
    "    if num5 > num1 and num5 > num2 and num5 > num3 and num5 > num4:\n",
    "        print(\"\\n{} is the Largest\".format(num5))\n",
    "        \n",
    "    # since the largest number has been printed, now we ommit that number\n",
    "    # and re-enter the remaining four values for comparison against @other\n",
    "    # such that we get the second largest number\n",
    "    \n",
    "    numm1 = int(input(\"\\t\\t\\tEnter the first number in any order of the remaining four values : \"))\n",
    "    \n",
    "    numm2 = int(input(\"\\t\\t\\tEnter the second number  : \"))\n",
    "    \n",
    "    numm3 = int(input(\"\\t\\t\\tEnter the third number : \"))\n",
    "    \n",
    "    numm4 = int(input(\"\\t\\t\\tEnter the fourth number : \"))\n",
    "    \n",
    "    if numm1 > numm2 and numm1 > numm3 and numm1 > numm4:\n",
    "        print(\"\\n{} is the second largest\".format(numm1))\n",
    "        \n",
    "    if numm2 > numm1 and numm2 > numm3 and numm2 > numm4:\n",
    "        print(\"\\n{} is the second largest\".format(numm2))\n",
    "        \n",
    "    if numm3 > numm1 and numm3 > numm2 and numm3 > numm4:\n",
    "        print(\"\\n{} is the second largest\".format(numm3))\n",
    "        \n",
    "    if numm4 > numm1 and numm3 > numm2 and numm4 > numm3:\n",
    "        print(\"\\n{} is the second largest\".format(numm4))\n",
    "        \n",
    "    # now we have identified the first and second numbers\n",
    "    # the user shud now ommit these 2 from the next input and only enter the remaining\n",
    "    # 3 numbers for comparison\n",
    "    \n",
    "    nummm1 = int(input(\"\\t\\t\\tEnter the other 3 numbers now omitting the to already identified\\n\\t\\t\\tEnter the first : \"))\n",
    "    \n",
    "    nummm2 = int(input(\"\\t\\t\\tEnter the second number : \"))\n",
    "                 \n",
    "    nummm3 = int(input(\"\\t\\t\\tEnter the third number : \"))\n",
    "    \n",
    "    if nummm1 > nummm2 and nummm1 > nummm3:\n",
    "        print(\"\\n{} is the third largest\".format(nummm1))\n",
    "        \n",
    "    if nummm2 > nummm1 and nummm2 > nummm3:\n",
    "        print(\"\\n{} is the third largest\".format(nummm2))\n",
    "        \n",
    "    if nummm3 > nummm1 and nummm3 > nummm2:\n",
    "        print(\"\\n{} is the third largest\".format(nummm3))\n",
    "        \n",
    "    # so 3 numbers are off, so now we ommit them\n",
    "    # and enter the remaining two numbers\n",
    "    \n",
    "    print(\"\\t\\t\\tOmmit the above 3 and enter the remaining 2 numbers\\n\\t\\t\\tSo that i get the fourth largest\")\n",
    "    \n",
    "    nummmm1 = int(input(\"\\t\\t\\tEnter the first number : \"))\n",
    "    \n",
    "    nummmm2 = int(input(\"\\t\\t\\tEnter the second number : \"))\n",
    "    \n",
    "    if nummmm1 > nummmm2:\n",
    "        print(\"{} is the fourth largest \".format(nummmm1))\n",
    "        \n",
    "    if nummmm2 > nummmm1:\n",
    "        print(\"{} is the fourth largest \".format(nummmm2))\n",
    "    \n",
    "    #since now only 1 value is left when the user enters it\n",
    "    #its printed as the fifth largest value\n",
    "    \n",
    "    nummmmm1 = int(input(\"\\t\\t\\tJust enter the remaining value : \"))\n",
    "    \n",
    "    if nummmmm1:\n",
    "        print(\"{} is the fifth largest\".format(nummmmm1))                 \n",
    "                    \n",
    "except:\n",
    "    print(\"Enter data again\")"
   ]
  },
  {
   "cell_type": "code",
   "execution_count": null,
   "metadata": {},
   "outputs": [],
   "source": []
  },
  {
   "cell_type": "code",
   "execution_count": null,
   "metadata": {},
   "outputs": [],
   "source": []
  },
  {
   "cell_type": "code",
   "execution_count": null,
   "metadata": {},
   "outputs": [],
   "source": []
  }
 ],
 "metadata": {
  "kernelspec": {
   "display_name": "Python 3",
   "language": "python",
   "name": "python3"
  },
  "language_info": {
   "codemirror_mode": {
    "name": "ipython",
    "version": 3
   },
   "file_extension": ".py",
   "mimetype": "text/x-python",
   "name": "python",
   "nbconvert_exporter": "python",
   "pygments_lexer": "ipython3",
   "version": "3.8.5"
  }
 },
 "nbformat": 4,
 "nbformat_minor": 4
}
